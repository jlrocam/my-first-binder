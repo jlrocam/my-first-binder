{
  "metadata": {
    "kernelspec": {
      "language": "python",
      "display_name": "Python 3",
      "name": "python3"
    },
    "language_info": {
      "name": "python",
      "version": "3.10.16",
      "mimetype": "text/x-python",
      "codemirror_mode": {
        "name": "ipython",
        "version": 3
      },
      "pygments_lexer": "ipython3",
      "nbconvert_exporter": "python",
      "file_extension": ".py"
    },
    "kaggle": {
      "accelerator": "tpu1vmV38",
      "dataSources": [
        {
          "sourceId": 10950771,
          "sourceType": "datasetVersion",
          "datasetId": 6811735
        },
        {
          "sourceId": 10950926,
          "sourceType": "datasetVersion",
          "datasetId": 6811862
        }
      ],
      "dockerImageVersionId": 30918,
      "isInternetEnabled": true,
      "language": "python",
      "sourceType": "notebook",
      "isGpuEnabled": false
    },
    "colab": {
      "name": "LesionPiel",
      "provenance": [],
      "include_colab_link": true
    }
  },
  "nbformat_minor": 0,
  "nbformat": 4,
  "cells": [
    {
      "cell_type": "markdown",
      "metadata": {
        "id": "view-in-github",
        "colab_type": "text"
      },
      "source": [
        "<a href=\"https://colab.research.google.com/github/jlrocam/my-first-binder/blob/main/LesionPiel.ipynb\" target=\"_parent\"><img src=\"https://colab.research.google.com/assets/colab-badge.svg\" alt=\"Open In Colab\"/></a>"
      ]
    },
    {
      "source": [
        "# IMPORTANT: SOME KAGGLE DATA SOURCES ARE PRIVATE\n",
        "# RUN THIS CELL IN ORDER TO IMPORT YOUR KAGGLE DATA SOURCES.\n",
        "import kagglehub\n",
        "kagglehub.login()\n"
      ],
      "metadata": {
        "id": "T97ERFYvKMSE"
      },
      "cell_type": "code",
      "outputs": [],
      "execution_count": null
    },
    {
      "source": [
        "# IMPORTANT: RUN THIS CELL IN ORDER TO IMPORT YOUR KAGGLE DATA SOURCES,\n",
        "# THEN FEEL FREE TO DELETE THIS CELL.\n",
        "# NOTE: THIS NOTEBOOK ENVIRONMENT DIFFERS FROM KAGGLE'S PYTHON\n",
        "# ENVIRONMENT SO THERE MAY BE MISSING LIBRARIES USED BY YOUR\n",
        "# NOTEBOOK.\n",
        "\n",
        "jlrocam_skin_images_path = kagglehub.dataset_download('jlrocam/skin-images')\n",
        "jlrocam_skin_metadata_path = kagglehub.dataset_download('jlrocam/skin-metadata')\n",
        "\n",
        "print('Data source import complete.')\n"
      ],
      "metadata": {
        "id": "pkvoeGmHKMSH"
      },
      "cell_type": "code",
      "outputs": [],
      "execution_count": null
    },
    {
      "cell_type": "code",
      "source": [
        "import tensorflow as tf\n",
        "import numpy as np\n",
        "import pandas as pd\n",
        "import os\n",
        "import cv2\n",
        "from tensorflow.keras.models import Model, load_model\n",
        "from tensorflow.keras.layers import Dense, Conv2D, MaxPooling2D, Flatten, Dropout, Input\n",
        "from sklearn.model_selection import train_test_split\n",
        "from tensorflow.keras.regularizers import l2\n",
        "from tensorflow.keras.utils import to_categorical\n",
        "from sklearn.preprocessing import LabelEncoder\n",
        "\n",
        "os.environ[\"TF_ENABLE_ONEDNN_OPTS\"] = \"0\"\n",
        "\n",
        "DATASET_DIR = \"/kaggle/input/skin-images\"\n",
        "METADATA_FILE = \"/kaggle/input/skin-metadata/metadata.csv\"\n",
        "MODEL_PATH = \"/kaggle/working/skin_lesion_model\"\n",
        "PROCESSED_IMAGES_FILE = \"processed_images.txt\"\n",
        "BATCH_SIZE = 16\n",
        "IMAGES_PER_BATCH = 500  # Procesar imágenes en lotes de 50,000\n",
        "EPOCHS = 10\n",
        "\n",
        "# Cargar metadatos\n",
        "df = pd.read_csv(METADATA_FILE, low_memory=False)\n",
        "df['isic_id'] = df['isic_id'].apply(lambda x: x + '.jpg')\n",
        "\n",
        "# Codificar etiquetas\n",
        "le_1 = LabelEncoder()\n",
        "le_3 = LabelEncoder()\n",
        "df['diagnosis_1_encoded'] = le_1.fit_transform(df['diagnosis_1'])\n",
        "df['diagnosis_3_encoded'] = le_3.fit_transform(df['diagnosis_3'])\n",
        "\n",
        "# Cargar imágenes procesadas previamente\n",
        "if os.path.exists(PROCESSED_IMAGES_FILE):\n",
        "    with open(PROCESSED_IMAGES_FILE, \"r\") as f:\n",
        "        processed_images = set(f.read().splitlines())\n",
        "else:\n",
        "    processed_images = set()\n",
        "\n",
        "df = df[~df['isic_id'].isin(processed_images)]\n",
        "\n",
        "# Buscar el último modelo guardado\n",
        "model_files = [f for f in os.listdir(\"/kaggle/working\") if f.startswith(\"skin_lesion_model_iter\") or f == \"skin_lesion_model_FINAL.keras\"]\n",
        "model_files.sort()\n",
        "latest_model = model_files[-1] if model_files else None\n",
        "\n",
        "if latest_model:\n",
        "    print(f\"Cargando modelo existente: {latest_model}\")\n",
        "    model = load_model(f\"/kaggle/working/{latest_model}\")\n",
        "else:\n",
        "    print(\"No se encontró modelo previo, iniciando desde cero.\")\n",
        "    inputs = Input(shape=(224, 224, 3))\n",
        "    x = Conv2D(32, (3,3), activation=\"relu\", kernel_regularizer=l2(0.01))(inputs)\n",
        "    x = MaxPooling2D(2,2)(x)\n",
        "    x = Conv2D(64, (3,3), activation=\"relu\")(x)\n",
        "    x = MaxPooling2D(2,2)(x)\n",
        "    x = Conv2D(128, (3,3), activation=\"relu\")(x)\n",
        "    x = MaxPooling2D(2,2)(x)\n",
        "    x = Flatten()(x)\n",
        "    x = Dense(128, activation=\"relu\")(x)\n",
        "    x = Dropout(0.5)(x)\n",
        "    output1 = Dense(len(le_1.classes_), activation=\"softmax\", name=\"diagnosis_1\")(x)\n",
        "    output2 = Dense(len(le_3.classes_), activation=\"softmax\", name=\"diagnosis_3\")(x)\n",
        "\n",
        "    model = Model(inputs=inputs, outputs=[output1, output2])\n",
        "    model.compile(optimizer=\"adam\",\n",
        "                  loss={\"diagnosis_1\": \"sparse_categorical_crossentropy\",\n",
        "                        \"diagnosis_3\": \"sparse_categorical_crossentropy\"},\n",
        "                  metrics={\"diagnosis_1\": \"accuracy\", \"diagnosis_3\": \"accuracy\"})\n",
        "\n",
        "# Función para generar datos\n",
        "def generate_data(batch_df, directory):\n",
        "    while True:  # Agregar un loop infinito para evitar que el dataset se agote\n",
        "        for _, row in batch_df.iterrows():\n",
        "            img_path = os.path.join(directory, row['isic_id'])\n",
        "            if os.path.exists(img_path):\n",
        "                img = cv2.imread(img_path)\n",
        "                img = cv2.cvtColor(img, cv2.COLOR_BGR2RGB)\n",
        "                img = cv2.resize(img, (224, 224))\n",
        "                img = img / 255.0\n",
        "                yield img, (row['diagnosis_1_encoded'], row['diagnosis_3_encoded'])\n",
        "\n",
        "total_images = len(df)\n",
        "num_batches = (total_images // IMAGES_PER_BATCH) + 1\n",
        "\n",
        "for batch_idx in range(num_batches):\n",
        "    start_idx = batch_idx * IMAGES_PER_BATCH\n",
        "    end_idx = min(start_idx + IMAGES_PER_BATCH, total_images)\n",
        "    batch_df = df.iloc[start_idx:end_idx].copy()\n",
        "\n",
        "    train_df, val_df = train_test_split(batch_df, test_size=0.2, random_state=42)\n",
        "\n",
        "    train_dataset = tf.data.Dataset.from_generator(lambda: generate_data(train_df, DATASET_DIR),\n",
        "                                                   output_signature=(\n",
        "                                                       tf.TensorSpec(shape=(224, 224, 3), dtype=tf.float32),\n",
        "                                                       (tf.TensorSpec(shape=(), dtype=tf.int32),\n",
        "                                                        tf.TensorSpec(shape=(), dtype=tf.int32))\n",
        "                                                   ))\n",
        "    val_dataset = tf.data.Dataset.from_generator(lambda: generate_data(val_df, DATASET_DIR),\n",
        "                                                 output_signature=(\n",
        "                                                     tf.TensorSpec(shape=(224, 224, 3), dtype=tf.float32),\n",
        "                                                     (tf.TensorSpec(shape=(), dtype=tf.int32),\n",
        "                                                      tf.TensorSpec(shape=(), dtype=tf.int32))\n",
        "                                                 ))\n",
        "\n",
        "    train_dataset = train_dataset.repeat().batch(BATCH_SIZE).prefetch(tf.data.AUTOTUNE)\n",
        "    val_dataset = val_dataset.repeat().batch(BATCH_SIZE).prefetch(tf.data.AUTOTUNE)\n",
        "\n",
        "    steps_per_epoch = IMAGES_PER_BATCH\n",
        "\n",
        "    print(f\"Limitar imagenes por epoch {steps_per_epoch} imágenes\")\n",
        "\n",
        "    print(f\"Entrenando batch {batch_idx + 1}/{num_batches} con {len(batch_df)} imágenes\")\n",
        "\n",
        "    model.fit(train_dataset, validation_data=val_dataset, epochs=EPOCHS, steps_per_epoch=steps_per_epoch)\n",
        "\n",
        "    model_filename = f\"{MODEL_PATH}_iter{batch_idx+1}.keras\"\n",
        "    if batch_idx + 1 == num_batches:\n",
        "        model_filename = f\"{MODEL_PATH}_FINAL.keras\"\n",
        "    model.save(model_filename)\n",
        "    print(f\"Modelo guardado en {model_filename}\")\n",
        "\n",
        "    with open(PROCESSED_IMAGES_FILE, \"a\") as f:\n",
        "        f.write(\"\\n\".join(batch_df['isic_id']) + \"\\n\")\n",
        "\n",
        "    continuar = input(\"¿Desea continuar con la siguiente iteración? (s/n): \")\n",
        "    if continuar.lower() != \"s\":\n",
        "        print(\"Entrenamiento detenido por el usuario.\")\n",
        "        break\n"
      ],
      "metadata": {
        "trusted": true,
        "execution": {
          "iopub.status.busy": "2025-03-25T07:14:23.125471Z",
          "iopub.execute_input": "2025-03-25T07:14:23.125711Z",
          "iopub.status.idle": "2025-03-25T07:14:54.780773Z",
          "shell.execute_reply.started": "2025-03-25T07:14:23.125686Z",
          "shell.execute_reply": "2025-03-25T07:14:54.778713Z"
        },
        "id": "-rSw_Cu7KMSH",
        "outputId": "141fd658-deb7-4fd3-8a10-d6789c610366"
      },
      "outputs": [
        {
          "name": "stderr",
          "text": "WARNING: Logging before InitGoogle() is written to STDERR\nE0000 00:00:1742886869.652767      10 common_lib.cc:612] Could not set metric server port: INVALID_ARGUMENT: Could not find SliceBuilder port 8471 in any of the 0 ports provided in `tpu_process_addresses`=\"local\"\n=== Source Location Trace: ===\nlearning/45eac/tfrc/runtime/common_lib.cc:230\n",
          "output_type": "stream"
        },
        {
          "name": "stdout",
          "text": "No se encontró modelo previo, iniciando desde cero.\n",
          "output_type": "stream"
        },
        {
          "name": "stderr",
          "text": "WARNING: All log messages before absl::InitializeLog() is called are written to STDERR\nI0000 00:00:1742886892.025606      10 service.cc:148] XLA service 0x58fa5b056980 initialized for platform TPU (this does not guarantee that XLA will be used). Devices:\nI0000 00:00:1742886892.025672      10 service.cc:156]   StreamExecutor device (0): TPU, 2a886c8\nI0000 00:00:1742886892.025683      10 service.cc:156]   StreamExecutor device (1): TPU, 2a886c8\nI0000 00:00:1742886892.025690      10 service.cc:156]   StreamExecutor device (2): TPU, 2a886c8\nI0000 00:00:1742886892.025696      10 service.cc:156]   StreamExecutor device (3): TPU, 2a886c8\nI0000 00:00:1742886892.025702      10 service.cc:156]   StreamExecutor device (4): TPU, 2a886c8\nI0000 00:00:1742886892.025709      10 service.cc:156]   StreamExecutor device (5): TPU, 2a886c8\nI0000 00:00:1742886892.025712      10 service.cc:156]   StreamExecutor device (6): TPU, 2a886c8\nI0000 00:00:1742886892.025716      10 service.cc:156]   StreamExecutor device (7): TPU, 2a886c8\n",
          "output_type": "stream"
        },
        {
          "name": "stdout",
          "text": "Limitar imagenes por epoch 500 imágenes\nEntrenando batch 1/803 con 500 imágenes\nEpoch 1/10\n",
          "output_type": "stream"
        },
        {
          "traceback": [
            "\u001b[0;31m---------------------------------------------------------------------------\u001b[0m",
            "\u001b[0;31mNotFoundError\u001b[0m                             Traceback (most recent call last)",
            "Cell \u001b[0;32mIn[1], line 115\u001b[0m\n\u001b[1;32m    111\u001b[0m \u001b[38;5;28mprint\u001b[39m(\u001b[38;5;124mf\u001b[39m\u001b[38;5;124m\"\u001b[39m\u001b[38;5;124mLimitar imagenes por epoch \u001b[39m\u001b[38;5;132;01m{\u001b[39;00msteps_per_epoch\u001b[38;5;132;01m}\u001b[39;00m\u001b[38;5;124m imágenes\u001b[39m\u001b[38;5;124m\"\u001b[39m)\n\u001b[1;32m    113\u001b[0m \u001b[38;5;28mprint\u001b[39m(\u001b[38;5;124mf\u001b[39m\u001b[38;5;124m\"\u001b[39m\u001b[38;5;124mEntrenando batch \u001b[39m\u001b[38;5;132;01m{\u001b[39;00mbatch_idx\u001b[38;5;250m \u001b[39m\u001b[38;5;241m+\u001b[39m\u001b[38;5;250m \u001b[39m\u001b[38;5;241m1\u001b[39m\u001b[38;5;132;01m}\u001b[39;00m\u001b[38;5;124m/\u001b[39m\u001b[38;5;132;01m{\u001b[39;00mnum_batches\u001b[38;5;132;01m}\u001b[39;00m\u001b[38;5;124m con \u001b[39m\u001b[38;5;132;01m{\u001b[39;00m\u001b[38;5;28mlen\u001b[39m(batch_df)\u001b[38;5;132;01m}\u001b[39;00m\u001b[38;5;124m imágenes\u001b[39m\u001b[38;5;124m\"\u001b[39m)\n\u001b[0;32m--> 115\u001b[0m \u001b[43mmodel\u001b[49m\u001b[38;5;241;43m.\u001b[39;49m\u001b[43mfit\u001b[49m\u001b[43m(\u001b[49m\u001b[43mtrain_dataset\u001b[49m\u001b[43m,\u001b[49m\u001b[43m \u001b[49m\u001b[43mvalidation_data\u001b[49m\u001b[38;5;241;43m=\u001b[39;49m\u001b[43mval_dataset\u001b[49m\u001b[43m,\u001b[49m\u001b[43m \u001b[49m\u001b[43mepochs\u001b[49m\u001b[38;5;241;43m=\u001b[39;49m\u001b[43mEPOCHS\u001b[49m\u001b[43m,\u001b[49m\u001b[43m \u001b[49m\u001b[43msteps_per_epoch\u001b[49m\u001b[38;5;241;43m=\u001b[39;49m\u001b[43msteps_per_epoch\u001b[49m\u001b[43m)\u001b[49m\n\u001b[1;32m    117\u001b[0m model_filename \u001b[38;5;241m=\u001b[39m \u001b[38;5;124mf\u001b[39m\u001b[38;5;124m\"\u001b[39m\u001b[38;5;132;01m{\u001b[39;00mMODEL_PATH\u001b[38;5;132;01m}\u001b[39;00m\u001b[38;5;124m_iter\u001b[39m\u001b[38;5;132;01m{\u001b[39;00mbatch_idx\u001b[38;5;241m+\u001b[39m\u001b[38;5;241m1\u001b[39m\u001b[38;5;132;01m}\u001b[39;00m\u001b[38;5;124m.keras\u001b[39m\u001b[38;5;124m\"\u001b[39m\n\u001b[1;32m    118\u001b[0m \u001b[38;5;28;01mif\u001b[39;00m batch_idx \u001b[38;5;241m+\u001b[39m \u001b[38;5;241m1\u001b[39m \u001b[38;5;241m==\u001b[39m num_batches:\n",
            "File \u001b[0;32m/usr/local/lib/python3.10/site-packages/keras/src/utils/traceback_utils.py:122\u001b[0m, in \u001b[0;36mfilter_traceback.<locals>.error_handler\u001b[0;34m(*args, **kwargs)\u001b[0m\n\u001b[1;32m    119\u001b[0m     filtered_tb \u001b[38;5;241m=\u001b[39m _process_traceback_frames(e\u001b[38;5;241m.\u001b[39m__traceback__)\n\u001b[1;32m    120\u001b[0m     \u001b[38;5;66;03m# To get the full stack trace, call:\u001b[39;00m\n\u001b[1;32m    121\u001b[0m     \u001b[38;5;66;03m# `keras.config.disable_traceback_filtering()`\u001b[39;00m\n\u001b[0;32m--> 122\u001b[0m     \u001b[38;5;28;01mraise\u001b[39;00m e\u001b[38;5;241m.\u001b[39mwith_traceback(filtered_tb) \u001b[38;5;28;01mfrom\u001b[39;00m\u001b[38;5;250m \u001b[39m\u001b[38;5;28;01mNone\u001b[39;00m\n\u001b[1;32m    123\u001b[0m \u001b[38;5;28;01mfinally\u001b[39;00m:\n\u001b[1;32m    124\u001b[0m     \u001b[38;5;28;01mdel\u001b[39;00m filtered_tb\n",
            "File \u001b[0;32m/usr/local/lib/python3.10/site-packages/tensorflow/python/eager/execute.py:53\u001b[0m, in \u001b[0;36mquick_execute\u001b[0;34m(op_name, num_outputs, inputs, attrs, ctx, name)\u001b[0m\n\u001b[1;32m     51\u001b[0m \u001b[38;5;28;01mtry\u001b[39;00m:\n\u001b[1;32m     52\u001b[0m   ctx\u001b[38;5;241m.\u001b[39mensure_initialized()\n\u001b[0;32m---> 53\u001b[0m   tensors \u001b[38;5;241m=\u001b[39m pywrap_tfe\u001b[38;5;241m.\u001b[39mTFE_Py_Execute(ctx\u001b[38;5;241m.\u001b[39m_handle, device_name, op_name,\n\u001b[1;32m     54\u001b[0m                                       inputs, attrs, num_outputs)\n\u001b[1;32m     55\u001b[0m \u001b[38;5;28;01mexcept\u001b[39;00m core\u001b[38;5;241m.\u001b[39m_NotOkStatusException \u001b[38;5;28;01mas\u001b[39;00m e:\n\u001b[1;32m     56\u001b[0m   \u001b[38;5;28;01mif\u001b[39;00m name \u001b[38;5;129;01mis\u001b[39;00m \u001b[38;5;129;01mnot\u001b[39;00m \u001b[38;5;28;01mNone\u001b[39;00m:\n",
            "\u001b[0;31mNotFoundError\u001b[0m: Graph execution error:\n\nDetected at node StatefulPartitionedCall defined at (most recent call last):\n  File \"/usr/local/lib/python3.10/runpy.py\", line 196, in _run_module_as_main\n\n  File \"/usr/local/lib/python3.10/runpy.py\", line 86, in _run_code\n\n  File \"/usr/local/lib/python3.10/site-packages/ipykernel_launcher.py\", line 18, in <module>\n\n  File \"/usr/local/lib/python3.10/site-packages/traitlets/config/application.py\", line 1075, in launch_instance\n\n  File \"/usr/local/lib/python3.10/site-packages/ipykernel/kernelapp.py\", line 737, in start\n\n  File \"/usr/local/lib/python3.10/site-packages/anyio/_core/_eventloop.py\", line 74, in run\n\n  File \"/usr/local/lib/python3.10/site-packages/anyio/_backends/_asyncio.py\", line 2303, in run\n\n  File \"/usr/local/lib/python3.10/site-packages/anyio/_backends/_asyncio.py\", line 216, in run\n\n  File \"/usr/local/lib/python3.10/asyncio/base_events.py\", line 636, in run_until_complete\n\n  File \"/usr/local/lib/python3.10/asyncio/base_events.py\", line 603, in run_forever\n\n  File \"/usr/local/lib/python3.10/asyncio/base_events.py\", line 1909, in _run_once\n\n  File \"/usr/local/lib/python3.10/asyncio/events.py\", line 80, in _run\n\n  File \"/usr/local/lib/python3.10/site-packages/ipykernel/kernelbase.py\", line 428, in process_shell\n\n  File \"/usr/local/lib/python3.10/site-packages/ipykernel/kernelbase.py\", line 501, in process_shell_message\n\n  File \"/usr/local/lib/python3.10/site-packages/ipykernel/ipkernel.py\", line 337, in execute_request\n\n  File \"/usr/local/lib/python3.10/site-packages/ipykernel/kernelbase.py\", line 752, in execute_request\n\n  File \"/usr/local/lib/python3.10/site-packages/ipykernel/ipkernel.py\", line 433, in do_execute\n\n  File \"/usr/local/lib/python3.10/site-packages/ipykernel/zmqshell.py\", line 582, in run_cell\n\n  File \"/usr/local/lib/python3.10/site-packages/IPython/core/interactiveshell.py\", line 3077, in run_cell\n\n  File \"/usr/local/lib/python3.10/site-packages/IPython/core/interactiveshell.py\", line 3132, in _run_cell\n\n  File \"/usr/local/lib/python3.10/site-packages/IPython/core/async_helpers.py\", line 128, in _pseudo_sync_runner\n\n  File \"/usr/local/lib/python3.10/site-packages/IPython/core/interactiveshell.py\", line 3336, in run_cell_async\n\n  File \"/usr/local/lib/python3.10/site-packages/IPython/core/interactiveshell.py\", line 3519, in run_ast_nodes\n\n  File \"/usr/local/lib/python3.10/site-packages/IPython/core/interactiveshell.py\", line 3579, in run_code\n\n  File \"/tmp/ipykernel_10/2326872957.py\", line 115, in <module>\n\n  File \"/usr/local/lib/python3.10/site-packages/keras/src/utils/traceback_utils.py\", line 117, in error_handler\n\n  File \"/usr/local/lib/python3.10/site-packages/keras/src/backend/tensorflow/trainer.py\", line 371, in fit\n\n  File \"/usr/local/lib/python3.10/site-packages/keras/src/backend/tensorflow/trainer.py\", line 219, in function\n\n  File \"/usr/local/lib/python3.10/site-packages/keras/src/backend/tensorflow/trainer.py\", line 132, in multi_step_on_iterator\n\ncould not find registered transfer manager for platform Host -- check target linkage\n\t [[{{node StatefulPartitionedCall}}]] [Op:__inference_multi_step_on_iterator_2770]"
          ],
          "ename": "NotFoundError",
          "evalue": "Graph execution error:\n\nDetected at node StatefulPartitionedCall defined at (most recent call last):\n  File \"/usr/local/lib/python3.10/runpy.py\", line 196, in _run_module_as_main\n\n  File \"/usr/local/lib/python3.10/runpy.py\", line 86, in _run_code\n\n  File \"/usr/local/lib/python3.10/site-packages/ipykernel_launcher.py\", line 18, in <module>\n\n  File \"/usr/local/lib/python3.10/site-packages/traitlets/config/application.py\", line 1075, in launch_instance\n\n  File \"/usr/local/lib/python3.10/site-packages/ipykernel/kernelapp.py\", line 737, in start\n\n  File \"/usr/local/lib/python3.10/site-packages/anyio/_core/_eventloop.py\", line 74, in run\n\n  File \"/usr/local/lib/python3.10/site-packages/anyio/_backends/_asyncio.py\", line 2303, in run\n\n  File \"/usr/local/lib/python3.10/site-packages/anyio/_backends/_asyncio.py\", line 216, in run\n\n  File \"/usr/local/lib/python3.10/asyncio/base_events.py\", line 636, in run_until_complete\n\n  File \"/usr/local/lib/python3.10/asyncio/base_events.py\", line 603, in run_forever\n\n  File \"/usr/local/lib/python3.10/asyncio/base_events.py\", line 1909, in _run_once\n\n  File \"/usr/local/lib/python3.10/asyncio/events.py\", line 80, in _run\n\n  File \"/usr/local/lib/python3.10/site-packages/ipykernel/kernelbase.py\", line 428, in process_shell\n\n  File \"/usr/local/lib/python3.10/site-packages/ipykernel/kernelbase.py\", line 501, in process_shell_message\n\n  File \"/usr/local/lib/python3.10/site-packages/ipykernel/ipkernel.py\", line 337, in execute_request\n\n  File \"/usr/local/lib/python3.10/site-packages/ipykernel/kernelbase.py\", line 752, in execute_request\n\n  File \"/usr/local/lib/python3.10/site-packages/ipykernel/ipkernel.py\", line 433, in do_execute\n\n  File \"/usr/local/lib/python3.10/site-packages/ipykernel/zmqshell.py\", line 582, in run_cell\n\n  File \"/usr/local/lib/python3.10/site-packages/IPython/core/interactiveshell.py\", line 3077, in run_cell\n\n  File \"/usr/local/lib/python3.10/site-packages/IPython/core/interactiveshell.py\", line 3132, in _run_cell\n\n  File \"/usr/local/lib/python3.10/site-packages/IPython/core/async_helpers.py\", line 128, in _pseudo_sync_runner\n\n  File \"/usr/local/lib/python3.10/site-packages/IPython/core/interactiveshell.py\", line 3336, in run_cell_async\n\n  File \"/usr/local/lib/python3.10/site-packages/IPython/core/interactiveshell.py\", line 3519, in run_ast_nodes\n\n  File \"/usr/local/lib/python3.10/site-packages/IPython/core/interactiveshell.py\", line 3579, in run_code\n\n  File \"/tmp/ipykernel_10/2326872957.py\", line 115, in <module>\n\n  File \"/usr/local/lib/python3.10/site-packages/keras/src/utils/traceback_utils.py\", line 117, in error_handler\n\n  File \"/usr/local/lib/python3.10/site-packages/keras/src/backend/tensorflow/trainer.py\", line 371, in fit\n\n  File \"/usr/local/lib/python3.10/site-packages/keras/src/backend/tensorflow/trainer.py\", line 219, in function\n\n  File \"/usr/local/lib/python3.10/site-packages/keras/src/backend/tensorflow/trainer.py\", line 132, in multi_step_on_iterator\n\ncould not find registered transfer manager for platform Host -- check target linkage\n\t [[{{node StatefulPartitionedCall}}]] [Op:__inference_multi_step_on_iterator_2770]",
          "output_type": "error"
        }
      ],
      "execution_count": null
    }
  ]
}